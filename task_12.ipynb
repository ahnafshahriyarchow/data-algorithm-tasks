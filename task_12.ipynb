{
 "cells": [
  {
   "cell_type": "markdown",
   "metadata": {},
   "source": [
    "# Exercise: Logistic discrimination"
   ]
  },
  {
   "cell_type": "markdown",
   "metadata": {},
   "source": [
    "Implement the logistic discrimination (LD) algorithm for 2 class problems (see the lecture notes).\n",
    "\n",
    "Test out your implementation over a synthetic data set. You can use the dataset generated below."
   ]
  },
  {
   "cell_type": "code",
   "execution_count": 4,
   "metadata": {},
   "outputs": [],
   "source": [
    "import math \n",
    "import numpy as np\n",
    "np.random.seed(42)"
   ]
  },
  {
   "cell_type": "code",
   "execution_count": 12,
   "metadata": {},
   "outputs": [],
   "source": [
    "def generate_binary_synthetic_data(nFeatures=4, nSamples=40, test_ratio=0.2):\n",
    "\n",
    "    K = 2 # number of classes\n",
    "\n",
    "    # prepare sample data\n",
    "    X = np.round(np.random.rand(nSamples, nFeatures), 2)\n",
    "\n",
    "    # Adding some pattern into X\n",
    "    half_N=int(nSamples/2)\n",
    "    X[:half_N,:]=X[:half_N,:]*2\n",
    "    X[half_N:nSamples,:]=X[half_N:nSamples,:]*5\n",
    "\n",
    "    # number of instances to pick as test set per class\n",
    "    test_numel = int(nSamples * test_ratio/2)\n",
    "    X_test_class1 = X[0:test_numel,:]\n",
    "    X_test_class2 = X[half_N:half_N+test_numel,:]\n",
    "\n",
    "    # remove test instances from X\n",
    "    X = np.delete(X, np.s_[0:test_numel], 0)\n",
    "    X = np.delete(X, np.s_[half_N-test_numel:half_N], 0)\n",
    "\n",
    "    X_new = np.concatenate([X_test_class1, X_test_class2])\n",
    "\n",
    "    N = X.shape[0]\n",
    "    N_new = X_new.shape[0]\n",
    "\n",
    "    # R is the output\n",
    "    R = np.repeat([1,0], N/K, axis=0)\n",
    "    R_new = np.repeat([1,0], N_new/K, axis=0)\n",
    "\n",
    "    # print(np.c_[X,R])\n",
    "    return X, R, X_new, R_new"
   ]
  },
  {
   "cell_type": "code",
   "execution_count": 15,
   "metadata": {},
   "outputs": [
    {
     "name": "stdout",
     "output_type": "stream",
     "text": [
      "[[1.42 0.3  1.16 1.22 1.  ]\n",
      " [0.84 1.48 1.86 1.86 1.  ]\n",
      " [0.9  0.22 1.96 1.68 1.  ]\n",
      " [0.24 1.84 1.74 1.04 1.  ]\n",
      " [1.15 3.35 0.1  0.5  0.  ]\n",
      " [4.   0.9  3.25 1.2  0.  ]\n",
      " [0.5  1.2  3.6  4.3  0.  ]\n",
      " [4.15 2.   3.35 1.   0.  ]]\n"
     ]
    }
   ],
   "source": [
    "X_train, y_train, X_test, y_test = generate_binary_synthetic_data(nFeatures=4, nSamples=40, test_ratio=0.2)\n",
    "# print(X_train.shape, y_train.shape)\n",
    "# print(X_test.shape, y_test.shape)\n",
    "\n",
    "# print(np.c_[X_train,y_train])\n",
    "print(np.c_[X_test,y_test])"
   ]
  },
  {
   "cell_type": "code",
   "execution_count": 18,
   "metadata": {},
   "outputs": [],
   "source": [
    "def log_regression(x,r,d,step_size=0.1,iterations=10):\n",
    "    x0=np.repeat(1,len(x))\n",
    "    new_x = np.c_[x0,x] # last column is for the bias term, w_0\n",
    "    w= []\n",
    "    for j in range(0,d+1):\n",
    "        w.append(np.random.uniform(-0.01,0.01))\n",
    "        \n",
    "    for test in range(0,iterations):\n",
    "        deriv_w = []\n",
    "        for j in range(0,d+1):\n",
    "            deriv_w.append(0)\n",
    "        for i in range(0,len(new_x)):\n",
    "            o = 0\n",
    "            for j in range(0,d+1):\n",
    "                o = o+w[j]*new_x[i,j]\n",
    "            y = 1/(1 + math.exp(-o))\n",
    "            for j in range(0,d):\n",
    "                deriv_w[j] = deriv_w[j] + (r[i]-y)*new_x[i,j]\n",
    "                \n",
    "        for j in range(0,d+1):\n",
    "            w[j] = w[j] + step_size*deriv_w[j]\n",
    "    \n",
    "    return np.round(w,3)"
   ]
  },
  {
   "cell_type": "code",
   "execution_count": 32,
   "metadata": {},
   "outputs": [
    {
     "name": "stdout",
     "output_type": "stream",
     "text": [
      "[ 8.162e+00 -1.330e+00 -2.573e+00 -8.840e-01  3.000e-03]\n"
     ]
    }
   ],
   "source": [
    "n_features = 4\n",
    "X_train, y_train, X_test, y_test = generate_binary_synthetic_data(nFeatures=n_features, nSamples=40, test_ratio=0.2)\n",
    "w_array = log_regression(X_train, y_train, n_features, step_size=0.01,iterations=5000)\n",
    "print(w_array)"
   ]
  },
  {
   "cell_type": "code",
   "execution_count": 33,
   "metadata": {},
   "outputs": [
    {
     "name": "stdout",
     "output_type": "stream",
     "text": [
      "[[1.    0.029]\n",
      " [1.    1.   ]\n",
      " [1.    0.999]\n",
      " [1.    1.   ]\n",
      " [0.    0.003]\n",
      " [0.    1.   ]\n",
      " [0.    0.003]\n",
      " [0.    0.998]]\n"
     ]
    }
   ],
   "source": [
    "# test on the test data (only prediction probabilities are calculated, you can infer the class prediction based on y > 0.5)\n",
    "\n",
    "y_pred = []\n",
    "for xt in X_test:\n",
    "    y_val = w_array[-1]\n",
    "    for d in range(n_features):\n",
    "        y_val += w_array[d] * xt[d]\n",
    "    y_pred.append(1/(1 + math.exp(-y_val)))\n",
    "\n",
    "y_pred = np.round(y_pred,3)\n",
    "\n",
    "print(np.c_[y_test, y_pred])\n"
   ]
  },
  {
   "cell_type": "code",
   "execution_count": null,
   "metadata": {},
   "outputs": [],
   "source": []
  }
 ],
 "metadata": {
  "kernelspec": {
   "display_name": "Python (envp3t)",
   "language": "python",
   "name": "envp3t"
  },
  "language_info": {
   "codemirror_mode": {
    "name": "ipython",
    "version": 3
   },
   "file_extension": ".py",
   "mimetype": "text/x-python",
   "name": "python",
   "nbconvert_exporter": "python",
   "pygments_lexer": "ipython3",
   "version": "3.10.8"
  }
 },
 "nbformat": 4,
 "nbformat_minor": 2
}
