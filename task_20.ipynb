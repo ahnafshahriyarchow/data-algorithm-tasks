{
 "cells": [
  {
   "cell_type": "markdown",
   "metadata": {},
   "source": [
    "# AL exercises"
   ]
  },
  {
   "cell_type": "markdown",
   "metadata": {},
   "source": [
    "## Libraries"
   ]
  },
  {
   "cell_type": "code",
   "execution_count": 1,
   "metadata": {},
   "outputs": [],
   "source": [
    "import numpy as np\n",
    "import pandas as pd\n",
    "\n",
    "import math\n",
    "from math import sqrt\n",
    "from tqdm import tqdm\n",
    "\n",
    "import matplotlib.pyplot as plt\n",
    "\n",
    "import seaborn as sns\n",
    "\n",
    "import random\n",
    "random.seed(141)\n",
    "np.random.seed(141)\n",
    "\n",
    "from sklearn.model_selection import train_test_split\n",
    "from sklearn.model_selection import KFold, cross_val_score\n",
    "\n",
    "from sklearn.linear_model import LogisticRegression\n",
    "from sklearn.tree import DecisionTreeClassifier\n",
    "from sklearn.naive_bayes import GaussianNB\n",
    "\n",
    "from sklearn.metrics import accuracy_score, recall_score, precision_score, classification_report\n",
    "\n",
    "import warnings\n",
    "warnings.filterwarnings('ignore') \n",
    "\n",
    "givenDec = lambda gdVal: float('%.3f' % gdVal) # 1 digit"
   ]
  },
  {
   "cell_type": "markdown",
   "metadata": {},
   "source": [
    "## data"
   ]
  },
  {
   "cell_type": "code",
   "execution_count": 2,
   "metadata": {},
   "outputs": [],
   "source": [
    "# read csv (no categorical, no missing value)\n",
    "my_df_orig = pd.read_csv(\"lab_AL_rnd_dataset.csv\")"
   ]
  },
  {
   "cell_type": "code",
   "execution_count": 3,
   "metadata": {},
   "outputs": [
    {
     "data": {
      "text/plain": [
       "0    1060\n",
       "1    1060\n",
       "Name: clabel, dtype: int64"
      ]
     },
     "execution_count": 3,
     "metadata": {},
     "output_type": "execute_result"
    }
   ],
   "source": [
    "my_df_orig[\"clabel\"].value_counts()"
   ]
  },
  {
   "cell_type": "code",
   "execution_count": 4,
   "metadata": {},
   "outputs": [],
   "source": [
    "labels = np.array(my_df_orig['clabel'])\n",
    "my_df = my_df_orig.drop('clabel', axis=1) # remove rowIDs from the rows"
   ]
  },
  {
   "cell_type": "code",
   "execution_count": 5,
   "metadata": {},
   "outputs": [
    {
     "name": "stdout",
     "output_type": "stream",
     "text": [
      "Training instances Shape: (1696, 11)\n",
      "Training Labels Shape: (1696,)\n",
      "Testing instances Shape: (424, 11)\n",
      "Testing Labels Shape: (424,)\n"
     ]
    }
   ],
   "source": [
    "# setting the random state to 42 which means the results will be the same each time I run the split for reproducible results.\n",
    "X_train, X_test, y_train, y_test = train_test_split(my_df, labels, test_size = 0.20, random_state = 42)\n",
    "\n",
    "print('Training instances Shape:', X_train.shape)\n",
    "print('Training Labels Shape:', y_train.shape)\n",
    "print('Testing instances Shape:', X_test.shape)\n",
    "print('Testing Labels Shape:', y_test.shape)"
   ]
  },
  {
   "cell_type": "markdown",
   "metadata": {},
   "source": [
    "## helper functions"
   ]
  },
  {
   "cell_type": "code",
   "execution_count": 6,
   "metadata": {},
   "outputs": [],
   "source": [
    "def evaluate_results(gtestLabels, gTestPred):\n",
    "    d_accuracy = round(accuracy_score(gtestLabels, gTestPred), 4)\n",
    "    v_recall = np.round(recall_score(gtestLabels, gTestPred, average = None), 4)\n",
    "    v_prec = np.round(precision_score(gtestLabels, gTestPred, average = None), 4)\n",
    "    \n",
    "    d_recallAvg = np.round(recall_score(gtestLabels, gTestPred, average = 'weighted'), 4)\n",
    "    d_precAvg = np.round(precision_score(gtestLabels, gTestPred, average = 'weighted'), 4)\n",
    "    v_summaryReport = classification_report(gtestLabels, gTestPred, digits = 4)\n",
    "\n",
    "    print('\\n')\n",
    "    print(v_summaryReport)\n",
    "\n",
    "    print('\\n')\n",
    "    print(\"d_accuracy\" + '\\t' + str(d_accuracy))\n",
    "    print(\"v_recall\" + '\\t' + str(v_recall[0]) + '\\t' + str(v_recall[1]) + '\\t' + str(d_recallAvg))\n",
    "    print(\"v_prec\" + '\\t' + str(v_prec[0]) + '\\t' + str(v_prec[1]) + '\\t' + str(d_precAvg))\n",
    "    \n",
    "    #print('\\n')\n",
    "    #for i in range(len(gtestLabels)):\n",
    "    #    print(\"row \" + str(i) + '\\t' + str(gtestLabels[i]) + '\\t' + str(givenDec(gTestPred[i])))"
   ]
  },
  {
   "cell_type": "markdown",
   "metadata": {},
   "source": [
    "## supervised learning"
   ]
  },
  {
   "cell_type": "markdown",
   "metadata": {},
   "source": [
    "### Logistic Regression"
   ]
  },
  {
   "cell_type": "code",
   "execution_count": 7,
   "metadata": {},
   "outputs": [
    {
     "name": "stdout",
     "output_type": "stream",
     "text": [
      "\n",
      "\n",
      "              precision    recall  f1-score   support\n",
      "\n",
      "           0     0.8204    0.8284    0.8244       204\n",
      "           1     0.8394    0.8318    0.8356       220\n",
      "\n",
      "    accuracy                         0.8302       424\n",
      "   macro avg     0.8299    0.8301    0.8300       424\n",
      "weighted avg     0.8303    0.8302    0.8302       424\n",
      "\n",
      "\n",
      "\n",
      "d_accuracy\t0.8302\n",
      "v_recall\t0.8284\t0.8318\t0.8302\n",
      "v_prec\t0.8204\t0.8394\t0.8303\n"
     ]
    }
   ],
   "source": [
    "clf = LogisticRegression()\n",
    "model = clf.fit(X_train, y_train)\n",
    "y_predict = model.predict(X_test)\n",
    "evaluate_results(y_test, y_predict)"
   ]
  },
  {
   "cell_type": "code",
   "execution_count": 8,
   "metadata": {},
   "outputs": [
    {
     "name": "stdout",
     "output_type": "stream",
     "text": [
      "scores [0.72641509 0.79716981 0.81132075 0.85849057 0.85377358 0.89150943\n",
      " 0.8490566  0.86320755 0.79245283 0.66509434]\n",
      "avg_score 0.811\n"
     ]
    }
   ],
   "source": [
    "scores = cross_val_score(LogisticRegression(), my_df, labels, cv=10, scoring='accuracy')\n",
    "print(\"scores\", scores)\n",
    "print(\"avg_score\", givenDec(np.mean(scores)))"
   ]
  },
  {
   "cell_type": "markdown",
   "metadata": {},
   "source": [
    "### Decision Tree Classifier"
   ]
  },
  {
   "cell_type": "code",
   "execution_count": 9,
   "metadata": {},
   "outputs": [
    {
     "name": "stdout",
     "output_type": "stream",
     "text": [
      "\n",
      "\n",
      "              precision    recall  f1-score   support\n",
      "\n",
      "           0     0.9265    0.9265    0.9265       204\n",
      "           1     0.9318    0.9318    0.9318       220\n",
      "\n",
      "    accuracy                         0.9292       424\n",
      "   macro avg     0.9291    0.9291    0.9291       424\n",
      "weighted avg     0.9292    0.9292    0.9292       424\n",
      "\n",
      "\n",
      "\n",
      "d_accuracy\t0.9292\n",
      "v_recall\t0.9265\t0.9318\t0.9292\n",
      "v_prec\t0.9265\t0.9318\t0.9292\n"
     ]
    }
   ],
   "source": [
    "clf = DecisionTreeClassifier()\n",
    "model = clf.fit(X_train, y_train)\n",
    "y_predict = model.predict(X_test)\n",
    "evaluate_results(y_test, y_predict)"
   ]
  },
  {
   "cell_type": "code",
   "execution_count": 10,
   "metadata": {},
   "outputs": [
    {
     "name": "stdout",
     "output_type": "stream",
     "text": [
      "scores [0.78301887 0.78301887 0.88679245 0.87264151 0.85849057 0.89150943\n",
      " 0.9245283  0.87735849 0.80660377 0.84433962]\n",
      "avg_score 0.853\n"
     ]
    }
   ],
   "source": [
    "scores = cross_val_score(DecisionTreeClassifier(), my_df, labels, cv=10, scoring='accuracy')\n",
    "print(\"scores\", scores)\n",
    "print(\"avg_score\", givenDec(np.mean(scores)))"
   ]
  },
  {
   "cell_type": "markdown",
   "metadata": {},
   "source": [
    "### Gaussian NB Classifier"
   ]
  },
  {
   "cell_type": "code",
   "execution_count": 11,
   "metadata": {},
   "outputs": [
    {
     "name": "stdout",
     "output_type": "stream",
     "text": [
      "\n",
      "\n",
      "              precision    recall  f1-score   support\n",
      "\n",
      "           0     0.8232    0.7990    0.8109       204\n",
      "           1     0.8186    0.8409    0.8296       220\n",
      "\n",
      "    accuracy                         0.8208       424\n",
      "   macro avg     0.8209    0.8200    0.8203       424\n",
      "weighted avg     0.8208    0.8208    0.8206       424\n",
      "\n",
      "\n",
      "\n",
      "d_accuracy\t0.8208\n",
      "v_recall\t0.799\t0.8409\t0.8208\n",
      "v_prec\t0.8232\t0.8186\t0.8208\n"
     ]
    }
   ],
   "source": [
    "clf = GaussianNB()\n",
    "model = clf.fit(X_train, y_train)\n",
    "y_predict = model.predict(X_test)\n",
    "evaluate_results(y_test, y_predict)"
   ]
  },
  {
   "cell_type": "code",
   "execution_count": 12,
   "metadata": {},
   "outputs": [
    {
     "name": "stdout",
     "output_type": "stream",
     "text": [
      "scores [0.68867925 0.73113208 0.83490566 0.83962264 0.85377358 0.9009434\n",
      " 0.93396226 0.89622642 0.76886792 0.66981132]\n",
      "avg_score 0.812\n"
     ]
    }
   ],
   "source": [
    "scores = cross_val_score(GaussianNB(), my_df, labels, cv=10, scoring='accuracy')\n",
    "print(\"scores\", scores)\n",
    "print(\"avg_score\", givenDec(np.mean(scores)))"
   ]
  },
  {
   "cell_type": "markdown",
   "metadata": {},
   "source": [
    "## Impact of training set size"
   ]
  },
  {
   "cell_type": "code",
   "execution_count": 13,
   "metadata": {},
   "outputs": [],
   "source": [
    "def update_learning_region(X_train, X_Remained, y_train, y_Remained, query_indices):\n",
    "    X_train=pd.concat([X_train,X_Remained.loc[query_indices]]).reset_index(drop=True)\n",
    "    y_train=pd.concat([y_train,y_Remained.loc[query_indices]]).reset_index(drop=True)\n",
    "\n",
    "    X_Remained=X_Remained.drop(query_indices , axis=0).reset_index(drop=True)\n",
    "    y_Remained=y_Remained.drop(query_indices ,axis=0).reset_index(drop=True)\n",
    "    return X_train, X_Remained, y_train, y_Remained"
   ]
  },
  {
   "cell_type": "code",
   "execution_count": 14,
   "metadata": {},
   "outputs": [],
   "source": [
    "def update_results(results, rep, y_test, y_pred, name, train_shape, dataset_shape):\n",
    "    results[\"accuracy\"][rep].append(round(accuracy_score(y_test, y_pred[name]),3))\n",
    "    results[\"percentage\"][rep].append(train_shape / dataset_shape )\n",
    "    results[\"train_size\"][rep].append(train_shape )\n",
    "\n",
    "    # print(\"results[accuracy][rep]\", results[\"accuracy\"][rep])\n",
    "\n",
    "    return results"
   ]
  },
  {
   "cell_type": "code",
   "execution_count": 15,
   "metadata": {},
   "outputs": [],
   "source": [
    "def split_data(X_pool, y_pool, testing_size, step_size, y_col, initial_indices=None):\n",
    "\n",
    "    X_test=X_pool.iloc[:testing_size].reset_index(drop=True)\n",
    "    y_test=y_pool.iloc[:testing_size].reset_index(drop=True)\n",
    "\n",
    "    X_Remained=X_pool.iloc[testing_size:].reset_index(drop=True)\n",
    "    y_Remained =y_pool.iloc[testing_size:].reset_index(drop=True)\n",
    "\n",
    "    X_train=X_Remained.iloc[:step_size].reset_index(drop=True)\n",
    "    y_train=y_Remained.iloc[:step_size].reset_index(drop=True)\n",
    "\n",
    "    X_Remained = X_Remained.iloc[step_size:].reset_index(drop=True)\n",
    "    y_Remained = y_Remained.iloc[step_size:].reset_index(drop=True)\n",
    "\n",
    "    return X_test, y_test, X_Remained, y_Remained, X_train, y_train"
   ]
  },
  {
   "cell_type": "code",
   "execution_count": 16,
   "metadata": {},
   "outputs": [],
   "source": [
    "def trainSingleModel(df, repp, testing_size, step_size, n_learning_steps, cmodel, name, save_path=\"\"):\n",
    "    multiplier = 1.0\n",
    "    y_col = \"clabel\"\n",
    "    x_cols = [\"col1\",\"col2\",\"col3\",\"col4\",\"col5\",\"col6\",\"col7\",\"col8\",\"col9\",\"col10\",\"col11\"]\n",
    "    \n",
    "    measures_new = [\"accuracy\", \"percentage\", \"train_size\"]\n",
    "    results = dict((meas,{}) for meas in measures_new)\n",
    "    for l in results:\n",
    "        results[l] = dict((n_rep,[]) for n_rep in repp)\n",
    "\n",
    "    for rep in repp:\n",
    "        print(\"Repetition \", rep)\n",
    "        df = df.sample(frac=1,random_state=rep).reset_index(drop=True)\n",
    "        y_pool = df.loc[:,y_col]\n",
    "        X_pool = df.loc[:,x_cols]\n",
    "        X_test, y_test, X_Remained, y_Remained, X_train, y_train = split_data(X_pool, y_pool, testing_size, step_size, y_col)\n",
    "        for i in range(n_learning_steps):\n",
    "            # print(\"learning step: \", i)\n",
    "            batch_query_indices = range(0, step_size)\n",
    "            X_train, X_Remained, y_train, y_Remained = update_learning_region(X_train, X_Remained, y_train, y_Remained, batch_query_indices)\n",
    "\n",
    "            y_pred=pd.DataFrame()\n",
    "            cmodel.fit(X_train,y_train)\n",
    "\n",
    "            y_pred[name] = cmodel.predict(X_test).round(3)\n",
    "            results = update_results(results, rep, y_test, y_pred, name, X_train.shape[0], X_pool.shape[0])\n",
    "\n",
    "    # np.save(save_path, results)\n",
    "    return results"
   ]
  },
  {
   "cell_type": "markdown",
   "metadata": {},
   "source": [
    "### Training Set Size: Logistic Regression"
   ]
  },
  {
   "cell_type": "code",
   "execution_count": 17,
   "metadata": {
    "scrolled": false
   },
   "outputs": [
    {
     "name": "stdout",
     "output_type": "stream",
     "text": [
      "Repetition  0\n",
      "Repetition  1\n",
      "Repetition  2\n",
      "Repetition  3\n",
      "Repetition  4\n",
      "Repetition  5\n",
      "Repetition  6\n",
      "Repetition  7\n",
      "Repetition  8\n",
      "Repetition  9\n",
      "Repetition  10\n",
      "Repetition  11\n",
      "Repetition  12\n",
      "Repetition  13\n",
      "Repetition  14\n",
      "Repetition  15\n",
      "Repetition  16\n",
      "Repetition  17\n",
      "Repetition  18\n",
      "Repetition  19\n",
      "Repetition  20\n",
      "Repetition  21\n",
      "Repetition  22\n",
      "Repetition  23\n",
      "Repetition  24\n",
      "Repetition  25\n",
      "Repetition  26\n",
      "Repetition  27\n",
      "Repetition  28\n",
      "Repetition  29\n"
     ]
    }
   ],
   "source": [
    "number_of_rep = 30\n",
    "step_size = 50\n",
    "n_learning_steps = 32\n",
    "testing_size = int(0.2*len(my_df_orig))\n",
    "\n",
    "clf = LogisticRegression()\n",
    "m_name = \"logRegression\"\n",
    "\n",
    "results_logR = trainSingleModel(my_df_orig, range(number_of_rep), testing_size, step_size, n_learning_steps, clf, m_name, save_path=\"\")"
   ]
  },
  {
   "cell_type": "code",
   "execution_count": 18,
   "metadata": {},
   "outputs": [
    {
     "data": {
      "image/png": "[encoded data removed]",
      "text/plain": [
       "<Figure size 640x480 with 1 Axes>"
      ]
     },
     "metadata": {},
     "output_type": "display_data"
    }
   ],
   "source": [
    "mean_rep_logR = []\n",
    "for bd in range(n_learning_steps-1):\n",
    "    temp_mean = []\n",
    "    for rep in range(number_of_rep):\n",
    "        temp_mean.append(results_logR[\"accuracy\"][rep][bd])\n",
    "    mean_rep_logR.append(np.mean(temp_mean))\n",
    "\n",
    "# print(mean_rep_logR)\n",
    "\n",
    "plt.plot(mean_rep_logR)\n",
    "# plt.show()\n",
    "# sns.distplot(results[\"accuracy\"][0], kde=True, hist=False, norm_hist=False, bins=5, label='SS')\n",
    "plt.show()"
   ]
  },
  {
   "cell_type": "code",
   "execution_count": 19,
   "metadata": {},
   "outputs": [
    {
     "data": {
      "text/plain": [
       "0.7971333333333332"
      ]
     },
     "execution_count": 19,
     "metadata": {},
     "output_type": "execute_result"
    }
   ],
   "source": [
    "mean_rep_logR[0]"
   ]
  },
  {
   "cell_type": "markdown",
   "metadata": {},
   "source": [
    "### Training Set Size: DT"
   ]
  },
  {
   "cell_type": "code",
   "execution_count": 20,
   "metadata": {
    "scrolled": true
   },
   "outputs": [
    {
     "name": "stdout",
     "output_type": "stream",
     "text": [
      "Repetition  0\n",
      "Repetition  1\n",
      "Repetition  2\n",
      "Repetition  3\n",
      "Repetition  4\n",
      "Repetition  5\n",
      "Repetition  6\n",
      "Repetition  7\n",
      "Repetition  8\n",
      "Repetition  9\n",
      "Repetition  10\n",
      "Repetition  11\n",
      "Repetition  12\n",
      "Repetition  13\n",
      "Repetition  14\n",
      "Repetition  15\n",
      "Repetition  16\n",
      "Repetition  17\n",
      "Repetition  18\n",
      "Repetition  19\n",
      "Repetition  20\n",
      "Repetition  21\n",
      "Repetition  22\n",
      "Repetition  23\n",
      "Repetition  24\n",
      "Repetition  25\n",
      "Repetition  26\n",
      "Repetition  27\n",
      "Repetition  28\n",
      "Repetition  29\n"
     ]
    }
   ],
   "source": [
    "number_of_rep = 30\n",
    "step_size = 50\n",
    "n_learning_steps = 32\n",
    "testing_size = int(0.2*len(my_df_orig))\n",
    "\n",
    "clf = DecisionTreeClassifier()\n",
    "m_name = \"DT\"\n",
    "\n",
    "results_DT = trainSingleModel(my_df_orig, range(number_of_rep), testing_size, step_size, n_learning_steps, clf, m_name, save_path=\"\")"
   ]
  },
  {
   "cell_type": "code",
   "execution_count": 21,
   "metadata": {},
   "outputs": [
    {
     "data": {
      "image/png": "[encoded data removed]",
      "text/plain": [
       "<Figure size 640x480 with 1 Axes>"
      ]
     },
     "metadata": {},
     "output_type": "display_data"
    }
   ],
   "source": [
    "mean_rep_DT = []\n",
    "for bd in range(n_learning_steps-1):\n",
    "    temp_mean = []\n",
    "    for rep in range(number_of_rep):\n",
    "        temp_mean.append(results_DT[\"accuracy\"][rep][bd])\n",
    "    mean_rep_DT.append(np.mean(temp_mean))\n",
    "\n",
    "# print(mean_rep_DT)\n",
    "\n",
    "plt.plot(mean_rep_DT)\n",
    "# plt.show()\n",
    "# sns.distplot(results[\"accuracy\"][0], kde=True, hist=False, norm_hist=False, bins=5, label='SS')\n",
    "plt.show()"
   ]
  },
  {
   "cell_type": "markdown",
   "metadata": {},
   "source": [
    "### Training Set Size: GNB"
   ]
  },
  {
   "cell_type": "code",
   "execution_count": 22,
   "metadata": {
    "scrolled": true
   },
   "outputs": [
    {
     "name": "stdout",
     "output_type": "stream",
     "text": [
      "Repetition  0\n",
      "Repetition  1\n",
      "Repetition  2\n",
      "Repetition  3\n",
      "Repetition  4\n",
      "Repetition  5\n",
      "Repetition  6\n",
      "Repetition  7\n",
      "Repetition  8\n",
      "Repetition  9\n",
      "Repetition  10\n",
      "Repetition  11\n",
      "Repetition  12\n",
      "Repetition  13\n",
      "Repetition  14\n",
      "Repetition  15\n",
      "Repetition  16\n",
      "Repetition  17\n",
      "Repetition  18\n",
      "Repetition  19\n",
      "Repetition  20\n",
      "Repetition  21\n",
      "Repetition  22\n",
      "Repetition  23\n",
      "Repetition  24\n",
      "Repetition  25\n",
      "Repetition  26\n",
      "Repetition  27\n",
      "Repetition  28\n",
      "Repetition  29\n"
     ]
    }
   ],
   "source": [
    "number_of_rep = 30\n",
    "step_size = 50\n",
    "n_learning_steps = 32\n",
    "testing_size = int(0.2*len(my_df_orig))\n",
    "\n",
    "clf = GaussianNB()\n",
    "m_name = \"GNB\"\n",
    "\n",
    "results_GNB = trainSingleModel(my_df_orig, range(number_of_rep), testing_size, step_size, n_learning_steps, clf, m_name, save_path=\"\")"
   ]
  },
  {
   "cell_type": "code",
   "execution_count": 23,
   "metadata": {},
   "outputs": [
    {
     "data": {
      "image/png": "[encoded data removed]",
      "text/plain": [
       "<Figure size 640x480 with 1 Axes>"
      ]
     },
     "metadata": {},
     "output_type": "display_data"
    }
   ],
   "source": [
    "mean_rep = []\n",
    "for bd in range(n_learning_steps-1):\n",
    "    temp_mean = []\n",
    "    for rep in range(number_of_rep):\n",
    "        temp_mean.append(results_GNB[\"accuracy\"][rep][bd])\n",
    "    mean_rep.append(np.mean(temp_mean))\n",
    "\n",
    "# print(mean_rep)\n",
    "\n",
    "plt.plot(mean_rep)\n",
    "# plt.show()\n",
    "# sns.distplot(results[\"accuracy\"][0], kde=True, hist=False, norm_hist=False, bins=5, label='SS')\n",
    "plt.show()"
   ]
  },
  {
   "cell_type": "markdown",
   "metadata": {},
   "source": [
    "## Query-by-committee"
   ]
  },
  {
   "cell_type": "code",
   "execution_count": 24,
   "metadata": {},
   "outputs": [],
   "source": [
    "def qbc_helper(Committee, X_train, y_train, X_Remained, step_size, multiplier):\n",
    "    #Query new instances:\n",
    "    y_pred_committee= pd.DataFrame()\n",
    "    variance = pd.DataFrame()\n",
    "\n",
    "    for member_name, committee_member in Committee.items():\n",
    "        committee_member.fit(X_train,y_train)\n",
    "        y_pred_committee[member_name]=committee_member.predict(X_Remained).round(4)\n",
    "        y_pred_committee[\"Pred Avg\"]=y_pred_committee.mean(axis=1).round(4)\n",
    "        variance[member_name]=(y_pred_committee[member_name]-y_pred_committee[\"Pred Avg\"])**2\n",
    "\n",
    "    y_pred_committee = y_pred_committee.drop(\"Pred Avg\", axis=1)\n",
    "\n",
    "    variance_final=(variance.sum(axis=1)/len(Committee)).round(5)\n",
    "    # print(\"variance final\", variance_final)\n",
    "\n",
    "    max_variance_indices=sorted(range(len(variance_final)), key=lambda k: variance_final[k],reverse=True)\n",
    "\n",
    "    batch_query_indices=max_variance_indices[:int(multiplier*step_size)]\n",
    "\n",
    "    return y_pred_committee, batch_query_indices, variance_final"
   ]
  },
  {
   "cell_type": "code",
   "execution_count": 25,
   "metadata": {},
   "outputs": [],
   "source": [
    "def AL_qbc(df, repp, testing_size, step_size, n_learning_steps, Committee, save_path=\"\"):\n",
    "    \n",
    "    multiplier = 1.0\n",
    "    y_col = \"clabel\"\n",
    "    x_cols = [\"col1\",\"col2\",\"col3\",\"col4\",\"col5\",\"col6\",\"col7\",\"col8\",\"col9\",\"col10\",\"col11\"]\n",
    "    \n",
    "    measures_new = [\"accuracy\", \"percentage\", \"train_size\"]\n",
    "    results = dict((meas,{}) for meas in measures_new)\n",
    "    for l in results:\n",
    "        results[l] = dict((n_rep,[]) for n_rep in repp)\n",
    "    \n",
    "    for rep in repp:\n",
    "        print(\"Repetition \", rep)\n",
    "        \n",
    "        df = df.sample(frac=1,random_state=rep).reset_index(drop=True)\n",
    "        y_pool = df.loc[:,y_col]\n",
    "        X_pool = df.loc[:,x_cols]\n",
    "        X_test, y_test, X_Remained, y_Remained, X_train, y_train = split_data(X_pool, y_pool, testing_size, step_size, y_col)\n",
    "\n",
    "        for i in range(n_learning_steps):\n",
    "            # print(\"learning step: \", i)\n",
    "\n",
    "            y_pred_committee, batch_query_indices, variance_final = qbc_helper(Committee, X_train, y_train, X_Remained, step_size, multiplier=multiplier)\n",
    "\n",
    "            X_train, X_Remained, y_train, y_Remained = update_learning_region(X_train, X_Remained, y_train, y_Remained, batch_query_indices)\n",
    "\n",
    "            y_pred=pd.DataFrame()\n",
    "            name = \"DT\" # base learner\n",
    "            model = DecisionTreeClassifier()\n",
    "            model.fit(X_train,y_train)\n",
    "\n",
    "            y_pred[name] = model.predict(X_test).round(3)\n",
    "            results = update_results(results, rep, y_test, y_pred, name, X_train.shape[0], X_pool.shape[0])\n",
    "\n",
    "    # np.save(save_path, results)\n",
    "    return results"
   ]
  },
  {
   "cell_type": "code",
   "execution_count": 26,
   "metadata": {
    "scrolled": true
   },
   "outputs": [
    {
     "name": "stdout",
     "output_type": "stream",
     "text": [
      "Repetition  0\n",
      "Repetition  1\n",
      "Repetition  2\n",
      "Repetition  3\n",
      "Repetition  4\n",
      "Repetition  5\n",
      "Repetition  6\n",
      "Repetition  7\n",
      "Repetition  8\n",
      "Repetition  9\n",
      "Repetition  10\n",
      "Repetition  11\n",
      "Repetition  12\n",
      "Repetition  13\n",
      "Repetition  14\n",
      "Repetition  15\n",
      "Repetition  16\n",
      "Repetition  17\n",
      "Repetition  18\n",
      "Repetition  19\n",
      "Repetition  20\n",
      "Repetition  21\n",
      "Repetition  22\n",
      "Repetition  23\n",
      "Repetition  24\n",
      "Repetition  25\n",
      "Repetition  26\n",
      "Repetition  27\n",
      "Repetition  28\n",
      "Repetition  29\n"
     ]
    }
   ],
   "source": [
    "number_of_rep = 30\n",
    "step_size = 50\n",
    "n_learning_steps = 32\n",
    "testing_size = int(0.2*len(my_df_orig))\n",
    "\n",
    "from collections import OrderedDict\n",
    "Committee={\"DT\":DecisionTreeClassifier(),\"logR\":LogisticRegression(), \"GNB\":GaussianNB()}\n",
    "Committee = OrderedDict(Committee)\n",
    "\n",
    "clf = DecisionTreeClassifier()\n",
    "m_name = \"DT\"\n",
    "\n",
    "results_qbc = AL_qbc(my_df_orig, range(number_of_rep), testing_size, step_size, n_learning_steps, Committee, save_path=\"\")"
   ]
  },
  {
   "cell_type": "code",
   "execution_count": 27,
   "metadata": {},
   "outputs": [
    {
     "data": {
      "image/png": "[encoded data removed]",
      "text/plain": [
       "<Figure size 640x480 with 1 Axes>"
      ]
     },
     "metadata": {},
     "output_type": "display_data"
    }
   ],
   "source": [
    "mean_rep_qbc = []\n",
    "for bd in range(n_learning_steps-1):\n",
    "    temp_mean = []\n",
    "    for rep in range(number_of_rep):\n",
    "        temp_mean.append(results_qbc[\"accuracy\"][rep][bd])\n",
    "    mean_rep_qbc.append(np.mean(temp_mean))\n",
    "\n",
    "plt.plot(mean_rep_qbc, label=\"qbc\")\n",
    "plt.plot(mean_rep_DT, label=\"DT\")\n",
    "plt.legend(loc=\"upper left\")\n",
    "plt.show()"
   ]
  }
 ],
 "metadata": {
  "kernelspec": {
   "display_name": "Python (envp3t)",
   "language": "python",
   "name": "envp3t"
  },
  "language_info": {
   "codemirror_mode": {
    "name": "ipython",
    "version": 3
   },
   "file_extension": ".py",
   "mimetype": "text/x-python",
   "name": "python",
   "nbconvert_exporter": "python",
   "pygments_lexer": "ipython3",
   "version": "3.10.8"
  },
  "latex_envs": {
   "LaTeX_envs_menu_present": true,
   "autoclose": false,
   "autocomplete": true,
   "bibliofile": "biblio.bib",
   "cite_by": "apalike",
   "current_citInitial": 1,
   "eqLabelWithNumbers": true,
   "eqNumInitial": 1,
   "hotkeys": {
    "equation": "Ctrl-E",
    "itemize": "Ctrl-I"
   },
   "labels_anchors": false,
   "latex_user_defs": false,
   "report_style_numbering": false,
   "user_envs_cfg": false
  },
  "toc": {
   "base_numbering": 1,
   "nav_menu": {},
   "number_sections": true,
   "sideBar": true,
   "skip_h1_title": false,
   "title_cell": "Table of Contents",
   "title_sidebar": "Contents",
   "toc_cell": false,
   "toc_position": {},
   "toc_section_display": true,
   "toc_window_display": false
  }
 },
 "nbformat": 4,
 "nbformat_minor": 2
}
