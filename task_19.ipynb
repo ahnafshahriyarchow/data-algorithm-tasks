{
 "cells": [
  {
   "cell_type": "markdown",
   "metadata": {},
   "source": [
    "# Libraries"
   ]
  },
  {
   "cell_type": "code",
   "execution_count": 32,
   "metadata": {},
   "outputs": [
    {
     "data": {
      "text/plain": [
       "'1.5.3'"
      ]
     },
     "execution_count": 32,
     "metadata": {},
     "output_type": "execute_result"
    }
   ],
   "source": [
    "import matplotlib.pyplot as plt\n",
    "import numpy as np\n",
    "\n",
    "import sklearn\n",
    "from sklearn.linear_model import LinearRegression\n",
    "from sklearn.linear_model import LogisticRegression\n",
    "\n",
    "# from sklearn.metrics import mean_squared_error, mean_absolute_error, r2_score\n",
    "\n",
    "from sklearn.datasets import make_classification\n",
    "\n",
    "import pandas as pd\n",
    "pd.__version__"
   ]
  },
  {
   "cell_type": "markdown",
   "metadata": {},
   "source": [
    "# Dataset"
   ]
  },
  {
   "cell_type": "code",
   "execution_count": 33,
   "metadata": {},
   "outputs": [
    {
     "name": "stdout",
     "output_type": "stream",
     "text": [
      "df_train.shape: (404, 14)\n"
     ]
    }
   ],
   "source": [
    "df_train = pd.read_csv(\"boston_housing_train.csv\")\n",
    "df_test = pd.read_csv(\"boston_housing_test.csv\")\n",
    "\n",
    "print(\"df_train.shape:\", df_train.shape)"
   ]
  },
  {
   "cell_type": "code",
   "execution_count": 34,
   "metadata": {},
   "outputs": [
    {
     "name": "stdout",
     "output_type": "stream",
     "text": [
      "x_train.shape: (404, 13)\n",
      "x_test.shape: (102, 13)\n"
     ]
    }
   ],
   "source": [
    "y_train = np.array(df_train['label'])\n",
    "x_train = df_train.drop('label', axis=1).to_numpy()\n",
    "\n",
    "y_test = np.array(df_test['label'])\n",
    "x_test = df_test.drop('label', axis=1).to_numpy()\n",
    "\n",
    "print(\"x_train.shape:\", x_train.shape)\n",
    "print(\"x_test.shape:\", x_test.shape)"
   ]
  },
  {
   "cell_type": "markdown",
   "metadata": {},
   "source": [
    "# ML model training"
   ]
  },
  {
   "cell_type": "code",
   "execution_count": 35,
   "metadata": {},
   "outputs": [
    {
     "name": "stdout",
     "output_type": "stream",
     "text": [
      "mae_val: 3.464\n",
      "mean_ytest: 23.078, std_ytest: 9.124\n",
      "mean_pred_test: 23.133, std_pred_test: 7.539\n"
     ]
    }
   ],
   "source": [
    "clf= LinearRegression()\n",
    "clf.fit(x_train, y_train)\n",
    "\n",
    "pred=clf.predict(x_test)\n",
    "mae_val = sklearn.metrics.mean_absolute_error(pred, y_test)\n",
    "print(\"mae_val: %.3f\" %mae_val)\n",
    "\n",
    "print(\"mean_ytest: %.3f, std_ytest: %.3f\" %(np.mean(y_test),np.std(y_test)))\n",
    "print(\"mean_pred_test: %.3f, std_pred_test: %.3f\" %(np.mean(pred),np.std(pred)))"
   ]
  },
  {
   "cell_type": "code",
   "execution_count": 36,
   "metadata": {},
   "outputs": [
    {
     "data": {
      "image/png": "[encoded data removed]",
      "text/plain": [
       "<Figure size 640x480 with 1 Axes>"
      ]
     },
     "metadata": {},
     "output_type": "display_data"
    }
   ],
   "source": [
    "# a visualization of predictions vs ground truth values\n",
    "plt.scatter(pred, y_test, marker=r'$\\bowtie$', label=\"Pred\")\n",
    "plt.show()"
   ]
  },
  {
   "cell_type": "code",
   "execution_count": 37,
   "metadata": {},
   "outputs": [
    {
     "name": "stdout",
     "output_type": "stream",
     "text": [
      "x_train.shape[0]: 404\n",
      "\n",
      "idx: [183 254  82 349  33 180  57]\n",
      "\n",
      "x_train[idx,:5]\n",
      " [[6.91100e-02 4.50000e+01 3.44000e+00 0.00000e+00 4.37000e-01]\n",
      " [2.86558e+01 0.00000e+00 1.81000e+01 0.00000e+00 5.97000e-01]\n",
      " [8.02710e-01 0.00000e+00 8.14000e+00 0.00000e+00 5.38000e-01]\n",
      " [1.50100e-02 9.00000e+01 1.21000e+00 1.00000e+00 4.01000e-01]\n",
      " [1.05393e+00 0.00000e+00 8.14000e+00 0.00000e+00 5.38000e-01]\n",
      " [5.66637e+00 0.00000e+00 1.81000e+01 0.00000e+00 7.40000e-01]\n",
      " [7.36711e+00 0.00000e+00 1.81000e+01 0.00000e+00 6.79000e-01]]\n"
     ]
    }
   ],
   "source": [
    "print(\"x_train.shape[0]:\", x_train.shape[0])\n",
    "\n",
    "idx = np.random.randint(x_train.shape[0], size=7) # generate 7 random integers between 0 and x_train.shape[0]\n",
    "print(\"\\nidx:\", idx)\n",
    "print(\"\\nx_train[idx,:5]\\n\", x_train[idx,:5])"
   ]
  },
  {
   "cell_type": "code",
   "execution_count": 38,
   "metadata": {},
   "outputs": [
    {
     "name": "stdout",
     "output_type": "stream",
     "text": [
      "\n",
      "num. unique rnd integers 253\n",
      "\n",
      "ratio unique rnd integers: 0.626\n"
     ]
    }
   ],
   "source": [
    "idx = np.random.randint(x_train.shape[0], size=x_train.shape[0]) # generate x_train.shape[0]=404 random integers between 0 and x_train.shape[0]\n",
    "print(\"\\nnum. unique rnd integers\", len(list(set(idx))))\n",
    "print(\"\\nratio unique rnd integers: %.3f\" %(len(list(set(idx)))/x_train.shape[0]))"
   ]
  },
  {
   "cell_type": "code",
   "execution_count": 39,
   "metadata": {},
   "outputs": [
    {
     "name": "stdout",
     "output_type": "stream",
     "text": [
      "x_trainQ.shape: (404, 13)\n"
     ]
    }
   ],
   "source": [
    "# a boostrapped training set (i.e., some instances are repeated)\n",
    "x_trainQ = x_train[idx,:]\n",
    "y_trainQ = y_train[idx]\n",
    "\n",
    "print(\"x_trainQ.shape:\", x_trainQ.shape)"
   ]
  },
  {
   "cell_type": "code",
   "execution_count": 40,
   "metadata": {},
   "outputs": [],
   "source": [
    "# collecting the trained models\n",
    "clf = LinearRegression()\n",
    "clf.fit(x_trainQ, y_trainQ)\n",
    "\n",
    "clfList=[]\n",
    "clfList.append(clf)"
   ]
  },
  {
   "cell_type": "markdown",
   "metadata": {},
   "source": [
    "# Task 1: Bagging\n",
    "\n",
    "* Create 10 different classifier by sampling the X_TRAIN, BOSTON HOUSE PRICE\n",
    "* Apply your ensembled learners to test data "
   ]
  },
  {
   "cell_type": "code",
   "execution_count": 41,
   "metadata": {},
   "outputs": [
    {
     "name": "stdout",
     "output_type": "stream",
     "text": [
      "Mean test data MAE: 3.50\n",
      "Stdev test data MAE: 0.16\n"
     ]
    }
   ],
   "source": [
    "# TASK -1 code here\n",
    "L = 10 # num classifiers\n",
    "N = 404 # num training instances\n",
    "\n",
    "clf = LinearRegression()\n",
    "maeList = []\n",
    "\n",
    "for l in range(L):\n",
    "    \n",
    "    idx = np.random.randint(x_train.shape[0], size=404)\n",
    "    \n",
    "    x_trainQ = x_train[idx, :]\n",
    "    y_trainQ = y_train[idx]\n",
    "    \n",
    "    clf.fit(x_trainQ, y_trainQ)\n",
    "    pred = clf.predict(x_test)\n",
    "    \n",
    "    MAE = sklearn.metrics.mean_absolute_error(pred, y_test)\n",
    "    maeList.append(MAE)\n",
    "    \n",
    "print('Mean test data MAE: %.2f' % np.mean(maeList))\n",
    "print('Stdev test data MAE: %.2f' % np.std(maeList))"
   ]
  },
  {
   "cell_type": "markdown",
   "metadata": {},
   "source": [
    "# Task 2: Adaboost\n",
    "\n",
    "* N: the number of examples, 500\n",
    "* F: number of feature: 15\n",
    "* L: the number of learners, 10\n",
    "* $p_{j}^{t}= $  denotes the probability that the instance $pair (x_{t} , r_{t})$ is drawn to train the j-th base-learner.\n",
    "* Initial condition $p_{1}^{t}=$  1/N"
   ]
  },
  {
   "cell_type": "markdown",
   "metadata": {},
   "source": [
    "## creating the dataset"
   ]
  },
  {
   "cell_type": "code",
   "execution_count": 42,
   "metadata": {},
   "outputs": [
    {
     "name": "stdout",
     "output_type": "stream",
     "text": [
      "num_pos: 261, num_neg: 239\n"
     ]
    }
   ],
   "source": [
    "# create a dataset\n",
    "N = 500 # num training instances\n",
    "F = 15 # num features\n",
    "\n",
    "X, y = make_classification(N,  n_features=F, flip_y=0.50)\n",
    "\n",
    "# num pos , num neg instances\n",
    "print(\"num_pos: %d, num_neg: %d\" %(sum(y==1),sum(y==0)))"
   ]
  },
  {
   "cell_type": "code",
   "execution_count": 43,
   "metadata": {},
   "outputs": [
    {
     "name": "stdout",
     "output_type": "stream",
     "text": [
      "prob[:5] [0.002 0.002 0.002 0.002 0.002]\n"
     ]
    }
   ],
   "source": [
    "# initial prob values for each instance\n",
    "prob = np.repeat(1/N,N)\n",
    "print(\"prob[:5]\", prob[:5])"
   ]
  },
  {
   "cell_type": "code",
   "execution_count": 44,
   "metadata": {},
   "outputs": [
    {
     "name": "stdout",
     "output_type": "stream",
     "text": [
      "len(idx): 500\n",
      "unique-len(set(idx)): 321\n"
     ]
    }
   ],
   "source": [
    "# bootstrap sample (with repetition) based on selection probabilities\n",
    "idx = np.random.choice(N, N, p=prob)\n",
    "print(\"len(idx):\", len(idx))\n",
    "print(\"unique-len(set(idx)):\", len(set(idx)))"
   ]
  },
  {
   "cell_type": "markdown",
   "metadata": {},
   "source": [
    "## ML model training"
   ]
  },
  {
   "cell_type": "code",
   "execution_count": 45,
   "metadata": {},
   "outputs": [
    {
     "name": "stdout",
     "output_type": "stream",
     "text": [
      "correct clf: 358, total: 500\n",
      "accuracy: 0.716\n"
     ]
    }
   ],
   "source": [
    "clf = LogisticRegression(solver = 'lbfgs')\n",
    "clf.fit(X,y)\n",
    "\n",
    "# training error\n",
    "print(\"correct clf: %d, total: %d\" %(sum(clf.predict(X) == y),len(y)))\n",
    "print(\"accuracy: %.3f\" %(sum(clf.predict(X) == y)/len(y)))"
   ]
  },
  {
   "cell_type": "code",
   "execution_count": 46,
   "metadata": {},
   "outputs": [
    {
     "name": "stdout",
     "output_type": "stream",
     "text": [
      "\n",
      "suc[:10]\n",
      " [ True  True  True False  True  True  True  True  True  True]\n",
      "\n",
      " selection probs:\n",
      " [(0.002, True), (0.002, True), (0.002, True), (0.002, False), (0.002, True), (0.002, True), (0.002, True), (0.002, True), (0.002, True), (0.002, True)]\n"
     ]
    }
   ],
   "source": [
    "# Succesfully classified instances\n",
    "suc = (clf.predict(X) == y)\n",
    "print(\"\\nsuc[:10]\\n\", suc[:10])\n",
    "\n",
    "print(\"\\n selection probs:\\n\", list(zip(prob[:10], suc[:10])))"
   ]
  },
  {
   "cell_type": "markdown",
   "metadata": {},
   "source": [
    "## Adaboost Implementation"
   ]
  },
  {
   "cell_type": "code",
   "execution_count": 47,
   "metadata": {},
   "outputs": [],
   "source": [
    "# Adaboost\n",
    "prob=np.repeat(1/N,N)\n",
    "B = []\n",
    "clfList = []\n",
    "\n",
    "for j in range(L):\n",
    "\n",
    "    idx = np.random.choice(N, N, p=prob)\n",
    "    Xj = X[idx]\n",
    "    yj = y[idx]\n",
    "\n",
    "    clf = LogisticRegression(solver='lbfgs')\n",
    "    clf.fit(Xj, yj)\n",
    "\n",
    "    preds = clf.predict(X)\n",
    "    E = sum(prob * (preds != y))\n",
    "    if E > 0.5:\n",
    "        break\n",
    "    \n",
    "    # update prediction probs\n",
    "    Bj = E / (1-E)\n",
    "    B.append(Bj)\n",
    "    prob[np.where(preds == y)] *= Bj\n",
    "    prob /= sum(prob)\n",
    "\n",
    "    clfList.append(clf)"
   ]
  },
  {
   "cell_type": "markdown",
   "metadata": {},
   "source": [
    "### testing\n",
    "* predictions are calculated as follows:\n",
    "$y_i = \\sum_{j=1}^L (\\log \\frac{1}{B_j}) d_{ji}(x)$"
   ]
  },
  {
   "cell_type": "code",
   "execution_count": 48,
   "metadata": {},
   "outputs": [],
   "source": [
    "# Testing\n",
    "def make_prediction(x):\n",
    "\n",
    "    predictions = []\n",
    "    for clf in clfList:\n",
    "        predictions.append(clf.predict_proba(x.reshape(1, -1)).flatten())\n",
    "    \n",
    "    # Multiply the predictions by their corresponding weights and sum them up across all classifiers.\n",
    "    # This results in a weighted vote for each class.\n",
    "    weighted_sum = np.sum(np.array(predictions) * np.log(1/np.array(B)).reshape(-1,1), axis=0)\n",
    "    \n",
    "    # Return the class label with the highest weighted sum, which is the final ensemble prediction\n",
    "    return np.argmax(weighted_sum)"
   ]
  },
  {
   "cell_type": "code",
   "execution_count": 49,
   "metadata": {},
   "outputs": [
    {
     "name": "stdout",
     "output_type": "stream",
     "text": [
      "adaboost - acc: 0.702\n"
     ]
    }
   ],
   "source": [
    "preds = [make_prediction(x) for x in X]\n",
    "\n",
    "print(\"adaboost - acc: %.3f\" %(sum(preds == y)/500))"
   ]
  },
  {
   "cell_type": "code",
   "execution_count": null,
   "metadata": {},
   "outputs": [],
   "source": []
  },
  {
   "cell_type": "code",
   "execution_count": null,
   "metadata": {},
   "outputs": [],
   "source": []
  }
 ],
 "metadata": {
  "kernelspec": {
   "display_name": "Python 3",
   "language": "python",
   "name": "python3"
  },
  "language_info": {
   "codemirror_mode": {
    "name": "ipython",
    "version": 3
   },
   "file_extension": ".py",
   "mimetype": "text/x-python",
   "name": "python",
   "nbconvert_exporter": "python",
   "pygments_lexer": "ipython3",
   "version": "3.10.8"
  }
 },
 "nbformat": 4,
 "nbformat_minor": 2
}
