{
 "cells": [
  {
   "cell_type": "markdown",
   "metadata": {},
   "source": [
    "### K-means and self-organizing maps"
   ]
  },
  {
   "cell_type": "markdown",
   "metadata": {},
   "source": [
    "1. Generate a multivariate dataset $X$ with 100 elements and two dimensions.\n",
    "2. Implement online k-means algorithm and plot detected cluster centers along with your dataset.\n",
    "3. Augment your implementation with the self organizing map (SOM) approach and plot detected cluster centers along with your dataset.\n",
    "\n",
    "--------------------------------------------------------------------\n",
    "**Online k-means algorithm**:\n",
    "- initialize $\\mathbf{m}_i, \\ i=1,...,k$, for example, to $k$ random $\\mathbf{x}^t$\n",
    "- repeat\n",
    "    - for all $\\mathbf{x}^t \\in \\mathcal{X}$ in random order\n",
    "         - $i \\leftarrow arg\\ min_j \\|\\mathbf{x}^t - \\mathbf{m}_j\\|$\n",
    "         - $\\mathbf{m}_i \\leftarrow \\mathbf{m}_i + \\eta (\\mathbf{x}^t - \\mathbf{m}_j)$\n",
    "- until $\\mathbf{m}_i$ converge"
   ]
  },
  {
   "cell_type": "markdown",
   "metadata": {},
   "source": [
    "### Solution"
   ]
  },
  {
   "cell_type": "markdown",
   "metadata": {},
   "source": [
    "#### Data generation"
   ]
  },
  {
   "cell_type": "code",
   "execution_count": 1,
   "metadata": {},
   "outputs": [],
   "source": [
    "import numpy as np\n",
    "import matplotlib.pyplot as plt\n",
    "np.random.seed(37)"
   ]
  },
  {
   "cell_type": "code",
   "execution_count": 2,
   "metadata": {},
   "outputs": [],
   "source": [
    "#here the data is pre-clustered to show understanding\n",
    "#it is expected that you will adjust this data\n",
    "\n",
    "#cluster 1 \n",
    "x1_1= np.round(np.random.uniform(0,1,30),2)\n",
    "x2_1 = np.round(np.random.uniform(0,1,30),2)\n",
    "\n",
    "x1 = np.column_stack((x1_1,x2_1)) \n",
    "\n",
    "#cluster 2 \n",
    "x1_2= np.round(np.random.uniform(3,4,40),2)\n",
    "x2_2 = np.round(np.random.uniform(3,4,40),2)\n",
    "\n",
    "x2 = np.column_stack((x1_2,x2_2))\n",
    "\n",
    "#cluster 1 \n",
    "x1_3 = np.round(np.random.uniform(7,8,30),2)\n",
    "x2_3 = np.round(np.random.uniform(7,8,30),2)\n",
    "\n",
    "x3 = np.column_stack((x1_3,x2_3))"
   ]
  },
  {
   "cell_type": "code",
   "execution_count": 3,
   "metadata": {},
   "outputs": [
    {
     "data": {
      "image/png": "[encoded data removed]",
      "text/plain": [
       "<Figure size 432x288 with 1 Axes>"
      ]
     },
     "metadata": {
      "needs_background": "light"
     },
     "output_type": "display_data"
    }
   ],
   "source": [
    "plt.scatter(x1[:,0], x1[:,1], c='yellow')\n",
    "plt.scatter(x2[:,0], x2[:,1], c='cyan')\n",
    "plt.scatter(x3[:,0], x3[:,1], c='purple')\n",
    "plt.show()"
   ]
  },
  {
   "cell_type": "code",
   "execution_count": 5,
   "metadata": {},
   "outputs": [
    {
     "data": {
      "text/plain": [
       "2"
      ]
     },
     "execution_count": 5,
     "metadata": {},
     "output_type": "execute_result"
    }
   ],
   "source": [
    "X =  np.concatenate((x1, x2,x3), axis=0)\n",
    "X.shape[1]"
   ]
  },
  {
   "cell_type": "markdown",
   "metadata": {},
   "source": [
    "#### k-means"
   ]
  },
  {
   "cell_type": "code",
   "execution_count": 6,
   "metadata": {},
   "outputs": [],
   "source": [
    "# online k means\n",
    "#this implementation doesn't check for convergence directly, but instead works on the assumption that after enough iterations\n",
    "#convergence occurs\n",
    "\n",
    "#you can adapt it at the end to do a basic difference check instead to be more efficient\n",
    "\n",
    "def online_kmeans(x,k,step_size,iterations):\n",
    "    dim_vals = x.shape\n",
    "    m_vals = np.zeros([k,dim_vals[1]])\n",
    "    \n",
    "    for center in range(k):\n",
    "        index = np.random.randint(0,len(x))\n",
    "        m_vals[center] = x[index]\n",
    "\n",
    "    for repeat in range(iterations):\n",
    "        \n",
    "        np.random.shuffle(x)\n",
    "        \n",
    "        for t in range(len(x)):\n",
    "            i=0\n",
    "            #using euclidean distance\n",
    "            diff = np.sqrt((x[t][0] - m_vals[0][0])**2 +  (x[t][1] - m_vals[0][1])**2)\n",
    "\n",
    "            #find the closest center\n",
    "            for j in range(1,len(m_vals)):\n",
    "                curr_diff = np.sqrt((x[t][0] - m_vals[j][0])**2 +  (x[t][1] - m_vals[j][1])**2)\n",
    "                if  curr_diff < diff:\n",
    "                    i = j\n",
    "                    diff = curr_diff\n",
    "\n",
    "            m_vals[i] = m_vals[i] + step_size*(x[t]-m_vals[i])\n",
    "    return m_vals"
   ]
  },
  {
   "cell_type": "code",
   "execution_count": 7,
   "metadata": {},
   "outputs": [
    {
     "data": {
      "text/plain": [
       "array([[3.54622078, 3.47826436],\n",
       "       [7.55305344, 7.37642754],\n",
       "       [0.53557212, 0.53395802]])"
      ]
     },
     "execution_count": 7,
     "metadata": {},
     "output_type": "execute_result"
    }
   ],
   "source": [
    "m_vals = online_kmeans(X,3,0.05,1000)\n",
    "m_vals"
   ]
  },
  {
   "cell_type": "code",
   "execution_count": 8,
   "metadata": {},
   "outputs": [
    {
     "data": {
      "image/png": "[encoded data removed]",
      "text/plain": [
       "<Figure size 432x288 with 1 Axes>"
      ]
     },
     "metadata": {
      "needs_background": "light"
     },
     "output_type": "display_data"
    }
   ],
   "source": [
    "plt.scatter(x1[:,0], x1[:,1], c='yellow')\n",
    "plt.scatter(x2[:,0], x2[:,1], c='cyan')\n",
    "plt.scatter(x3[:,0], x3[:,1], c='purple')\n",
    "plt.scatter(m_vals[:,0],m_vals[:,1],c='black')\n",
    "plt.show()"
   ]
  },
  {
   "cell_type": "markdown",
   "metadata": {},
   "source": [
    "#### SOM implementation"
   ]
  },
  {
   "cell_type": "code",
   "execution_count": 9,
   "metadata": {},
   "outputs": [],
   "source": [
    "# SOM\n",
    "def calc_var(m_vals,median):\n",
    "    sigma = 0 \n",
    "    N = len(m_vals)\n",
    "    for m in m_vals:\n",
    "        euclidean_distance = np.sqrt((m[0] - median[0])**2 +  (m[1] - median[1])**2)\n",
    "        sigma = sigma + (euclidean_distance)**2\n",
    "    sigma = sigma/N\n",
    "    return(np.sqrt(sigma))\n",
    "\n",
    "def nh_function(sigma,l,i):\n",
    "    exp_term = (-(l-i)**2)/(2*sigma**2)\n",
    "    output = (1/np.sqrt(2*np.pi)*sigma)*np.exp(exp_term)\n",
    "    return(output)\n",
    "    \n",
    "def online_kmeans_som(x,step_size,k,nh_size,iterations):\n",
    "    \n",
    "    dim_vals = x.shape\n",
    "    m_vals = np.zeros([k,dim_vals[1]])\n",
    "    \n",
    "    for center in range(k):\n",
    "        index = np.random.randint(0,len(x))\n",
    "        m_vals[center] = x[index]\n",
    "    \n",
    "    for repeat in range(iterations):\n",
    "        \n",
    "        np.random.shuffle(x)\n",
    "        \n",
    "        for t in range(len(x)):\n",
    "            i=0\n",
    "            diff = np.sqrt((x[t][0] - m_vals[0][0])**2 +  (x[t][1] - m_vals[0][1])**2)\n",
    "\n",
    "            #find the closest center\n",
    "            for j in range(1,len(m_vals)):\n",
    "                curr_diff = np.sqrt((x[t][0] - m_vals[j][0])**2 +  (x[t][1] - m_vals[j][1])**2)\n",
    "                if  curr_diff < diff:\n",
    "                    i = j\n",
    "                    diff = curr_diff\n",
    "                    \n",
    "            neighbors = m_vals[max(i-nh_size,1):min(i+nh_size,len(m_vals))]\n",
    "            \n",
    "            if (neighbors == m_vals[i]).all():\n",
    "                m_vals[i] = m_vals[i] + step_size*(x[t]-m_vals[i])\n",
    "                \n",
    "            else:\n",
    "                sigma = calc_var(neighbors,m_vals[i])\n",
    "                for nh_index in range(max(i-nh_size,1),min(i+nh_size,len(m_vals))):\n",
    "                    nh_func_res = nh_function(sigma,nh_index,i)\n",
    "                    m_vals[nh_index] = m_vals[nh_index] + step_size*nh_func_res*(x[t]-m_vals[nh_index])\n",
    "    \n",
    "    return m_vals"
   ]
  },
  {
   "cell_type": "code",
   "execution_count": 10,
   "metadata": {},
   "outputs": [
    {
     "data": {
      "text/plain": [
       "array([[7.72      , 7.28      ],\n",
       "       [4.05049899, 4.05143179],\n",
       "       [2.08627192, 2.07536498]])"
      ]
     },
     "execution_count": 10,
     "metadata": {},
     "output_type": "execute_result"
    }
   ],
   "source": [
    "m_vals = online_kmeans_som(X,0.05,3,2,300)\n",
    "m_vals"
   ]
  },
  {
   "cell_type": "code",
   "execution_count": 11,
   "metadata": {},
   "outputs": [
    {
     "data": {
      "image/png": "[encoded data removed]",
      "text/plain": [
       "<Figure size 432x288 with 1 Axes>"
      ]
     },
     "metadata": {
      "needs_background": "light"
     },
     "output_type": "display_data"
    }
   ],
   "source": [
    "plt.scatter(x1[:,0], x1[:,1], c='yellow')\n",
    "plt.scatter(x2[:,0], x2[:,1], c='cyan')\n",
    "plt.scatter(x3[:,0], x3[:,1], c='purple')\n",
    "plt.scatter(m_vals[:,0],m_vals[:,1],c='black')\n",
    "plt.show()"
   ]
  },
  {
   "cell_type": "code",
   "execution_count": null,
   "metadata": {},
   "outputs": [],
   "source": []
  }
 ],
 "metadata": {
  "@webio": {
   "lastCommId": null,
   "lastKernelId": null
  },
  "kernelspec": {
   "display_name": "Python 3",
   "language": "python",
   "name": "python3"
  },
  "language_info": {
   "codemirror_mode": {
    "name": "ipython",
    "version": 3
   },
   "file_extension": ".py",
   "mimetype": "text/x-python",
   "name": "python",
   "nbconvert_exporter": "python",
   "pygments_lexer": "ipython3",
   "version": "3.5.4"
  }
 },
 "nbformat": 4,
 "nbformat_minor": 2
}
