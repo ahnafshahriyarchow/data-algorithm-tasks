{
 "cells": [
  {
   "cell_type": "markdown",
   "metadata": {},
   "source": [
    "# LSTM gates and formulas\n",
    "![General Overview](https://colah.github.io/posts/2015-08-Understanding-LSTMs/img/LSTM3-chain.png)\n",
    "![LSTM Gates](https://colah.github.io/posts/2015-08-Understanding-LSTMs/img/LSTM3-var-GRU.png)\n",
    "[Source](https://colah.github.io/posts/2015-08-Understanding-LSTMs/)"
   ]
  },
  {
   "cell_type": "markdown",
   "metadata": {},
   "source": [
    "# [Reading data](https://archive.ics.uci.edu/ml/datasets/Daily+Demand+Forecasting+Orders#)"
   ]
  },
  {
   "cell_type": "code",
   "execution_count": 1,
   "metadata": {},
   "outputs": [
    {
     "data": {
      "text/html": [
       "<div>\n",
       "<style scoped>\n",
       "    .dataframe tbody tr th:only-of-type {\n",
       "        vertical-align: middle;\n",
       "    }\n",
       "\n",
       "    .dataframe tbody tr th {\n",
       "        vertical-align: top;\n",
       "    }\n",
       "\n",
       "    .dataframe thead th {\n",
       "        text-align: right;\n",
       "    }\n",
       "</style>\n",
       "<table border=\"1\" class=\"dataframe\">\n",
       "  <thead>\n",
       "    <tr style=\"text-align: right;\">\n",
       "      <th></th>\n",
       "      <th>Week of the month (first week, second, third, fourth or fifth week</th>\n",
       "      <th>Day of the week (Monday to Friday)</th>\n",
       "      <th>Non-urgent order</th>\n",
       "      <th>Urgent order</th>\n",
       "      <th>Order type A</th>\n",
       "      <th>Order type B</th>\n",
       "      <th>Order type C</th>\n",
       "      <th>Fiscal sector orders</th>\n",
       "      <th>Orders from the traffic controller sector</th>\n",
       "      <th>Banking orders (1)</th>\n",
       "      <th>Banking orders (2)</th>\n",
       "      <th>Banking orders (3)</th>\n",
       "      <th>Target (Total orders)</th>\n",
       "    </tr>\n",
       "  </thead>\n",
       "  <tbody>\n",
       "    <tr>\n",
       "      <th>0</th>\n",
       "      <td>1</td>\n",
       "      <td>4</td>\n",
       "      <td>316.307</td>\n",
       "      <td>223.270</td>\n",
       "      <td>61.543</td>\n",
       "      <td>175.586</td>\n",
       "      <td>302.448</td>\n",
       "      <td>0.000</td>\n",
       "      <td>65556</td>\n",
       "      <td>44914</td>\n",
       "      <td>188411</td>\n",
       "      <td>14793</td>\n",
       "      <td>539.577</td>\n",
       "    </tr>\n",
       "    <tr>\n",
       "      <th>1</th>\n",
       "      <td>1</td>\n",
       "      <td>5</td>\n",
       "      <td>128.633</td>\n",
       "      <td>96.042</td>\n",
       "      <td>38.058</td>\n",
       "      <td>56.037</td>\n",
       "      <td>130.580</td>\n",
       "      <td>0.000</td>\n",
       "      <td>40419</td>\n",
       "      <td>21399</td>\n",
       "      <td>89461</td>\n",
       "      <td>7679</td>\n",
       "      <td>224.675</td>\n",
       "    </tr>\n",
       "    <tr>\n",
       "      <th>2</th>\n",
       "      <td>1</td>\n",
       "      <td>6</td>\n",
       "      <td>43.651</td>\n",
       "      <td>84.375</td>\n",
       "      <td>21.826</td>\n",
       "      <td>25.125</td>\n",
       "      <td>82.461</td>\n",
       "      <td>1.386</td>\n",
       "      <td>11992</td>\n",
       "      <td>3452</td>\n",
       "      <td>21305</td>\n",
       "      <td>14947</td>\n",
       "      <td>129.412</td>\n",
       "    </tr>\n",
       "    <tr>\n",
       "      <th>3</th>\n",
       "      <td>2</td>\n",
       "      <td>2</td>\n",
       "      <td>171.297</td>\n",
       "      <td>127.667</td>\n",
       "      <td>41.542</td>\n",
       "      <td>113.294</td>\n",
       "      <td>162.284</td>\n",
       "      <td>18.156</td>\n",
       "      <td>49971</td>\n",
       "      <td>33703</td>\n",
       "      <td>69054</td>\n",
       "      <td>18423</td>\n",
       "      <td>317.120</td>\n",
       "    </tr>\n",
       "    <tr>\n",
       "      <th>4</th>\n",
       "      <td>2</td>\n",
       "      <td>3</td>\n",
       "      <td>90.532</td>\n",
       "      <td>113.526</td>\n",
       "      <td>37.679</td>\n",
       "      <td>56.618</td>\n",
       "      <td>116.220</td>\n",
       "      <td>6.459</td>\n",
       "      <td>48534</td>\n",
       "      <td>19646</td>\n",
       "      <td>16411</td>\n",
       "      <td>20257</td>\n",
       "      <td>210.517</td>\n",
       "    </tr>\n",
       "  </tbody>\n",
       "</table>\n",
       "</div>"
      ],
      "text/plain": [
       "   Week of the month (first week, second, third, fourth or fifth week  \\\n",
       "0                                                  1                    \n",
       "1                                                  1                    \n",
       "2                                                  1                    \n",
       "3                                                  2                    \n",
       "4                                                  2                    \n",
       "\n",
       "   Day of the week (Monday to Friday)  Non-urgent order  Urgent order  \\\n",
       "0                                   4           316.307       223.270   \n",
       "1                                   5           128.633        96.042   \n",
       "2                                   6            43.651        84.375   \n",
       "3                                   2           171.297       127.667   \n",
       "4                                   3            90.532       113.526   \n",
       "\n",
       "   Order type A  Order type B  Order type C  Fiscal sector orders  \\\n",
       "0        61.543       175.586       302.448                 0.000   \n",
       "1        38.058        56.037       130.580                 0.000   \n",
       "2        21.826        25.125        82.461                 1.386   \n",
       "3        41.542       113.294       162.284                18.156   \n",
       "4        37.679        56.618       116.220                 6.459   \n",
       "\n",
       "   Orders from the traffic controller sector  Banking orders (1)  \\\n",
       "0                                      65556               44914   \n",
       "1                                      40419               21399   \n",
       "2                                      11992                3452   \n",
       "3                                      49971               33703   \n",
       "4                                      48534               19646   \n",
       "\n",
       "   Banking orders (2)  Banking orders (3)  Target (Total orders)  \n",
       "0              188411               14793                539.577  \n",
       "1               89461                7679                224.675  \n",
       "2               21305               14947                129.412  \n",
       "3               69054               18423                317.120  \n",
       "4               16411               20257                210.517  "
      ]
     },
     "execution_count": 1,
     "metadata": {},
     "output_type": "execute_result"
    }
   ],
   "source": [
    "import pandas as pd\n",
    "df = pd.read_csv('https://archive.ics.uci.edu/ml/machine-learning-databases/00409/Daily_Demand_Forecasting_Orders.csv',\n",
    "                   sep=';')\n",
    "df.head()"
   ]
  },
  {
   "cell_type": "code",
   "execution_count": 2,
   "metadata": {},
   "outputs": [
    {
     "data": {
      "text/html": [
       "<div>\n",
       "<style scoped>\n",
       "    .dataframe tbody tr th:only-of-type {\n",
       "        vertical-align: middle;\n",
       "    }\n",
       "\n",
       "    .dataframe tbody tr th {\n",
       "        vertical-align: top;\n",
       "    }\n",
       "\n",
       "    .dataframe thead th {\n",
       "        text-align: right;\n",
       "    }\n",
       "</style>\n",
       "<table border=\"1\" class=\"dataframe\">\n",
       "  <thead>\n",
       "    <tr style=\"text-align: right;\">\n",
       "      <th></th>\n",
       "      <th>Week of the month (first week, second, third, fourth or fifth week</th>\n",
       "      <th>Day of the week (Monday to Friday)</th>\n",
       "      <th>Non-urgent order</th>\n",
       "      <th>Urgent order</th>\n",
       "      <th>Order type A</th>\n",
       "      <th>Order type B</th>\n",
       "      <th>Order type C</th>\n",
       "      <th>Fiscal sector orders</th>\n",
       "      <th>Orders from the traffic controller sector</th>\n",
       "      <th>Banking orders (1)</th>\n",
       "      <th>Banking orders (2)</th>\n",
       "      <th>Banking orders (3)</th>\n",
       "      <th>Target (Total orders)</th>\n",
       "    </tr>\n",
       "  </thead>\n",
       "  <tbody>\n",
       "    <tr>\n",
       "      <th>count</th>\n",
       "      <td>60.000000</td>\n",
       "      <td>60.000000</td>\n",
       "      <td>60.000000</td>\n",
       "      <td>60.000000</td>\n",
       "      <td>60.000000</td>\n",
       "      <td>60.000000</td>\n",
       "      <td>60.000000</td>\n",
       "      <td>60.000000</td>\n",
       "      <td>60.000000</td>\n",
       "      <td>60.000000</td>\n",
       "      <td>60.000000</td>\n",
       "      <td>60.000000</td>\n",
       "      <td>60.000000</td>\n",
       "    </tr>\n",
       "    <tr>\n",
       "      <th>mean</th>\n",
       "      <td>3.016667</td>\n",
       "      <td>4.033333</td>\n",
       "      <td>172.554933</td>\n",
       "      <td>118.920850</td>\n",
       "      <td>52.112217</td>\n",
       "      <td>109.229850</td>\n",
       "      <td>139.531250</td>\n",
       "      <td>77.396133</td>\n",
       "      <td>44504.350000</td>\n",
       "      <td>46640.833333</td>\n",
       "      <td>79401.483333</td>\n",
       "      <td>23114.633333</td>\n",
       "      <td>300.873317</td>\n",
       "    </tr>\n",
       "    <tr>\n",
       "      <th>std</th>\n",
       "      <td>1.282102</td>\n",
       "      <td>1.401775</td>\n",
       "      <td>69.505788</td>\n",
       "      <td>27.170929</td>\n",
       "      <td>18.829911</td>\n",
       "      <td>50.741388</td>\n",
       "      <td>41.442932</td>\n",
       "      <td>186.502470</td>\n",
       "      <td>12197.905134</td>\n",
       "      <td>45220.736293</td>\n",
       "      <td>40504.420041</td>\n",
       "      <td>13148.039829</td>\n",
       "      <td>89.602041</td>\n",
       "    </tr>\n",
       "    <tr>\n",
       "      <th>min</th>\n",
       "      <td>1.000000</td>\n",
       "      <td>2.000000</td>\n",
       "      <td>43.651000</td>\n",
       "      <td>77.371000</td>\n",
       "      <td>21.826000</td>\n",
       "      <td>25.125000</td>\n",
       "      <td>74.372000</td>\n",
       "      <td>0.000000</td>\n",
       "      <td>11992.000000</td>\n",
       "      <td>3452.000000</td>\n",
       "      <td>16411.000000</td>\n",
       "      <td>7679.000000</td>\n",
       "      <td>129.412000</td>\n",
       "    </tr>\n",
       "    <tr>\n",
       "      <th>25%</th>\n",
       "      <td>2.000000</td>\n",
       "      <td>3.000000</td>\n",
       "      <td>125.348000</td>\n",
       "      <td>100.888000</td>\n",
       "      <td>39.456250</td>\n",
       "      <td>74.916250</td>\n",
       "      <td>113.632250</td>\n",
       "      <td>1.243250</td>\n",
       "      <td>34994.250000</td>\n",
       "      <td>20130.000000</td>\n",
       "      <td>50680.500000</td>\n",
       "      <td>12609.750000</td>\n",
       "      <td>238.195500</td>\n",
       "    </tr>\n",
       "    <tr>\n",
       "      <th>50%</th>\n",
       "      <td>3.000000</td>\n",
       "      <td>4.000000</td>\n",
       "      <td>151.062500</td>\n",
       "      <td>113.114500</td>\n",
       "      <td>47.166500</td>\n",
       "      <td>99.482000</td>\n",
       "      <td>127.990000</td>\n",
       "      <td>7.831500</td>\n",
       "      <td>44312.000000</td>\n",
       "      <td>32527.500000</td>\n",
       "      <td>67181.000000</td>\n",
       "      <td>18011.500000</td>\n",
       "      <td>288.034500</td>\n",
       "    </tr>\n",
       "    <tr>\n",
       "      <th>75%</th>\n",
       "      <td>4.000000</td>\n",
       "      <td>5.000000</td>\n",
       "      <td>194.606500</td>\n",
       "      <td>132.108250</td>\n",
       "      <td>58.463750</td>\n",
       "      <td>132.171000</td>\n",
       "      <td>160.107500</td>\n",
       "      <td>20.360750</td>\n",
       "      <td>52111.750000</td>\n",
       "      <td>45118.750000</td>\n",
       "      <td>94787.750000</td>\n",
       "      <td>31047.750000</td>\n",
       "      <td>334.237250</td>\n",
       "    </tr>\n",
       "    <tr>\n",
       "      <th>max</th>\n",
       "      <td>5.000000</td>\n",
       "      <td>6.000000</td>\n",
       "      <td>435.304000</td>\n",
       "      <td>223.270000</td>\n",
       "      <td>118.178000</td>\n",
       "      <td>267.342000</td>\n",
       "      <td>302.448000</td>\n",
       "      <td>865.000000</td>\n",
       "      <td>71772.000000</td>\n",
       "      <td>210508.000000</td>\n",
       "      <td>188411.000000</td>\n",
       "      <td>73839.000000</td>\n",
       "      <td>616.453000</td>\n",
       "    </tr>\n",
       "  </tbody>\n",
       "</table>\n",
       "</div>"
      ],
      "text/plain": [
       "       Week of the month (first week, second, third, fourth or fifth week  \\\n",
       "count                                          60.000000                    \n",
       "mean                                            3.016667                    \n",
       "std                                             1.282102                    \n",
       "min                                             1.000000                    \n",
       "25%                                             2.000000                    \n",
       "50%                                             3.000000                    \n",
       "75%                                             4.000000                    \n",
       "max                                             5.000000                    \n",
       "\n",
       "       Day of the week (Monday to Friday)  Non-urgent order  Urgent order  \\\n",
       "count                           60.000000         60.000000     60.000000   \n",
       "mean                             4.033333        172.554933    118.920850   \n",
       "std                              1.401775         69.505788     27.170929   \n",
       "min                              2.000000         43.651000     77.371000   \n",
       "25%                              3.000000        125.348000    100.888000   \n",
       "50%                              4.000000        151.062500    113.114500   \n",
       "75%                              5.000000        194.606500    132.108250   \n",
       "max                              6.000000        435.304000    223.270000   \n",
       "\n",
       "       Order type A  Order type B  Order type C  Fiscal sector orders  \\\n",
       "count     60.000000     60.000000     60.000000             60.000000   \n",
       "mean      52.112217    109.229850    139.531250             77.396133   \n",
       "std       18.829911     50.741388     41.442932            186.502470   \n",
       "min       21.826000     25.125000     74.372000              0.000000   \n",
       "25%       39.456250     74.916250    113.632250              1.243250   \n",
       "50%       47.166500     99.482000    127.990000              7.831500   \n",
       "75%       58.463750    132.171000    160.107500             20.360750   \n",
       "max      118.178000    267.342000    302.448000            865.000000   \n",
       "\n",
       "       Orders from the traffic controller sector  Banking orders (1)  \\\n",
       "count                                  60.000000           60.000000   \n",
       "mean                                44504.350000        46640.833333   \n",
       "std                                 12197.905134        45220.736293   \n",
       "min                                 11992.000000         3452.000000   \n",
       "25%                                 34994.250000        20130.000000   \n",
       "50%                                 44312.000000        32527.500000   \n",
       "75%                                 52111.750000        45118.750000   \n",
       "max                                 71772.000000       210508.000000   \n",
       "\n",
       "       Banking orders (2)  Banking orders (3)  Target (Total orders)  \n",
       "count           60.000000           60.000000              60.000000  \n",
       "mean         79401.483333        23114.633333             300.873317  \n",
       "std          40504.420041        13148.039829              89.602041  \n",
       "min          16411.000000         7679.000000             129.412000  \n",
       "25%          50680.500000        12609.750000             238.195500  \n",
       "50%          67181.000000        18011.500000             288.034500  \n",
       "75%          94787.750000        31047.750000             334.237250  \n",
       "max         188411.000000        73839.000000             616.453000  "
      ]
     },
     "execution_count": 2,
     "metadata": {},
     "output_type": "execute_result"
    }
   ],
   "source": [
    "df.describe()"
   ]
  },
  {
   "cell_type": "code",
   "execution_count": 3,
   "metadata": {},
   "outputs": [
    {
     "data": {
      "text/plain": [
       "Week of the month (first week, second, third, fourth or fifth week    0\n",
       "Day of the week (Monday to Friday)                                    0\n",
       "Non-urgent order                                                      0\n",
       "Urgent order                                                          0\n",
       "Order type A                                                          0\n",
       "Order type B                                                          0\n",
       "Order type C                                                          0\n",
       "Fiscal sector orders                                                  0\n",
       "Orders from the traffic controller sector                             0\n",
       "Banking orders (1)                                                    0\n",
       "Banking orders (2)                                                    0\n",
       "Banking orders (3)                                                    0\n",
       "Target (Total orders)                                                 0\n",
       "dtype: int64"
      ]
     },
     "execution_count": 3,
     "metadata": {},
     "output_type": "execute_result"
    }
   ],
   "source": [
    "#checking missing values\n",
    "df.isnull().sum()"
   ]
  },
  {
   "cell_type": "code",
   "execution_count": 4,
   "metadata": {},
   "outputs": [
    {
     "data": {
      "text/plain": [
       "<matplotlib.axes._subplots.AxesSubplot at 0x21bfaad2be0>"
      ]
     },
     "execution_count": 4,
     "metadata": {},
     "output_type": "execute_result"
    },
    {
     "data": {
      "image/png": "[encoded data removed]",
      "text/plain": [
       "<Figure size 432x288 with 1 Axes>"
      ]
     },
     "metadata": {
      "needs_background": "light"
     },
     "output_type": "display_data"
    }
   ],
   "source": [
    "df['Urgent order'].plot(title='Urgent Order\\'s trend')"
   ]
  },
  {
   "cell_type": "code",
   "execution_count": 5,
   "metadata": {},
   "outputs": [
    {
     "data": {
      "text/plain": [
       "<matplotlib.axes._subplots.AxesSubplot at 0x21bfae1acc0>"
      ]
     },
     "execution_count": 5,
     "metadata": {},
     "output_type": "execute_result"
    },
    {
     "data": {
      "image/png": "[encoded data removed]",
      "text/plain": [
       "<Figure size 432x288 with 1 Axes>"
      ]
     },
     "metadata": {
      "needs_background": "light"
     },
     "output_type": "display_data"
    }
   ],
   "source": [
    "df['Target (Total orders)'].plot(title='Target (Total orders)')"
   ]
  },
  {
   "cell_type": "markdown",
   "metadata": {},
   "source": [
    "# Possible baseline(s)\n",
    "* previous time step\n",
    "\n",
    "**What other baselines you can think of?**"
   ]
  },
  {
   "cell_type": "code",
   "execution_count": 6,
   "metadata": {},
   "outputs": [
    {
     "data": {
      "text/plain": [
       "array([    nan, 223.27 ,  96.042,  84.375, 127.667, 113.526,  96.36 ,\n",
       "       118.919, 113.87 , 124.381, 101.045, 102.793,  91.18 , 114.412,\n",
       "       141.406, 141.854, 124.256, 158.408, 108.688, 163.72 , 166.649,\n",
       "        98.927, 103.551,  87.629, 141.437, 106.083,  85.31 , 100.417,\n",
       "        95.153, 133.375, 131.788,  92.16 , 131.463, 181.149, 110.874,\n",
       "       125.119,  77.371, 140.041, 111.392, 111.859, 121.697, 150.708,\n",
       "       102.53 , 108.055, 106.641,  94.315, 167.455, 139.383, 114.813,\n",
       "       112.703, 105.273, 120.324, 116.959,  87.294,  99.756,  79.084,\n",
       "       158.133, 133.069, 109.639, 108.395])"
      ]
     },
     "execution_count": 6,
     "metadata": {},
     "output_type": "execute_result"
    }
   ],
   "source": [
    "import numpy as np\n",
    "base_line1 = np.array(np.nan)\n",
    "base_line1 = np.append(base_line1, df['Urgent order'][:-1].values)\n",
    "base_line1"
   ]
  },
  {
   "cell_type": "code",
   "execution_count": 7,
   "metadata": {},
   "outputs": [
    {
     "data": {
      "image/png": "[encoded data removed]",
      "text/plain": [
       "<Figure size 432x288 with 1 Axes>"
      ]
     },
     "metadata": {
      "needs_background": "light"
     },
     "output_type": "display_data"
    }
   ],
   "source": [
    "import matplotlib.pyplot as plt\n",
    "plt.plot(df['Urgent order'].values)\n",
    "plt.plot(base_line1)\n",
    "plt.show()"
   ]
  },
  {
   "cell_type": "markdown",
   "metadata": {},
   "source": [
    "# LSTM model"
   ]
  },
  {
   "cell_type": "code",
   "execution_count": 26,
   "metadata": {},
   "outputs": [],
   "source": [
    "from keras.models import Sequential\n",
    "from keras.layers import Dense, LSTM\n",
    "previous_steps = 5\n",
    "model = Sequential()\n",
    "model.add(LSTM(30, activation='relu', input_shape=(previous_steps, 1)))\n",
    "model.add(Dense(1))\n",
    "model.compile(optimizer='adam', loss='mse')"
   ]
  },
  {
   "cell_type": "code",
   "execution_count": 9,
   "metadata": {},
   "outputs": [],
   "source": [
    "def split_series(t_series, previous_steps):\n",
    "    X, y = list(), list()\n",
    "    for i in range(len(t_series)):\n",
    "        # end of the pattern\n",
    "        end_ix = i + previous_steps\n",
    "        # Don't exceed the end of the series!\n",
    "        if end_ix > len(t_series)-1:\n",
    "            break\n",
    "        # input , output in an  autoregressive manner\n",
    "        seq_x, seq_y = t_series[i:end_ix], t_series[end_ix]\n",
    "        X.append(seq_x)\n",
    "        y.append(seq_y)\n",
    "    return np.array(X), np.array(y)"
   ]
  },
  {
   "cell_type": "code",
   "execution_count": 10,
   "metadata": {},
   "outputs": [],
   "source": [
    "X, y = split_series(df['Urgent order'].values, previous_steps)\n",
    "# change the shape for the LSTM input\n",
    "X = X.reshape((X.shape[0], X.shape[1], 1))"
   ]
  },
  {
   "cell_type": "code",
   "execution_count": 17,
   "metadata": {},
   "outputs": [
    {
     "data": {
      "text/plain": [
       "<keras.callbacks.History at 0x21bfad99e48>"
      ]
     },
     "execution_count": 17,
     "metadata": {},
     "output_type": "execute_result"
    }
   ],
   "source": [
    "model.fit(X, y, epochs=200, verbose=0)"
   ]
  },
  {
   "cell_type": "code",
   "execution_count": 12,
   "metadata": {},
   "outputs": [],
   "source": [
    "x_test = np.array(df['Urgent order'][0:5].values)"
   ]
  },
  {
   "cell_type": "code",
   "execution_count": 13,
   "metadata": {},
   "outputs": [],
   "source": [
    "x_input = x_test.reshape((1, previous_steps, 1))"
   ]
  },
  {
   "cell_type": "code",
   "execution_count": 14,
   "metadata": {},
   "outputs": [
    {
     "name": "stdout",
     "output_type": "stream",
     "text": [
      "[93.941284]\n"
     ]
    }
   ],
   "source": [
    "# our prediction\n",
    "yhat = model.predict(x_input, verbose=0)\n",
    "print(yhat[0])"
   ]
  },
  {
   "cell_type": "code",
   "execution_count": 15,
   "metadata": {},
   "outputs": [
    {
     "name": "stdout",
     "output_type": "stream",
     "text": [
      "96.36\n"
     ]
    }
   ],
   "source": [
    "# Ground truth\n",
    "y = df['Urgent order'][5]\n",
    "print(y)"
   ]
  },
  {
   "cell_type": "markdown",
   "metadata": {},
   "source": [
    "# Lab Exercises"
   ]
  },
  {
   "cell_type": "markdown",
   "metadata": {},
   "source": [
    "* Write a for loop to predict the number of urgent orders for all the of the time steps using LSTM.\n",
    "\n",
    "* Find RMSE of your prediction and compare it with the RMSR of the baseline1.\n",
    "\n",
    "* How can you improve the accuracy of the LSTM? (hint: play with different parameter's setting)?\n",
    "\n",
    "* Define at least 1 more baseline and compare your result with it. "
   ]
  },
  {
   "cell_type": "code",
   "execution_count": 34,
   "metadata": {},
   "outputs": [
    {
     "name": "stderr",
     "output_type": "stream",
     "text": [
      "100%|██████████████████████████████████████████████████████████████████████████████████| 56/56 [00:29<00:00,  1.91it/s]\n"
     ]
    }
   ],
   "source": [
    "from tqdm import tqdm\n",
    "from keras.models import Sequential\n",
    "from keras.layers import Dense, LSTM\n",
    "previous_steps = 3\n",
    "model = Sequential()\n",
    "model.add(LSTM(50, activation='relu', input_shape=(previous_steps, 1)))\n",
    "model.add(Dense(1))\n",
    "model.compile(optimizer='adam', loss='mse')\n",
    "\n",
    "# sliding window\n",
    "whole_series = df['Urgent order'].values\n",
    "length_ = len(whole_series)\n",
    "yhat_ = []\n",
    "y_ = []\n",
    "baseline1 = []\n",
    "baseline2 = []\n",
    "for i in tqdm(range(previous_steps, length_-1), position = 0, leave=True):\n",
    "    X, y = split_series(whole_series[:i+1], previous_steps)\n",
    "    # change the shape for the LSTM input\n",
    "    X = X.reshape((X.shape[0], X.shape[1], 1))\n",
    "    \n",
    "    model.fit(X, y, epochs=100, verbose=0)\n",
    "    \n",
    "    x_test = np.array(whole_series[(i-previous_steps+1):(i+1)]) #last 5 steps\n",
    "    x_input = x_test.reshape((1, previous_steps, 1))\n",
    "    \n",
    "    # our prediction\n",
    "    yhat_.append(model.predict(x_input, verbose=0)[0][0])\n",
    "    y_.append(whole_series[i+1]) # ground truth\n",
    "    baseline1.append(whole_series[i]) # last time step\n",
    "    baseline2.append((whole_series[i]+whole_series[i-1])/2) # average of the last two time steps"
   ]
  },
  {
   "cell_type": "code",
   "execution_count": 35,
   "metadata": {},
   "outputs": [
    {
     "name": "stdout",
     "output_type": "stream",
     "text": [
      "LSTM's RMSE is 32.85.\n",
      "RMSE of last time step as baseline1 is 32.33.\n",
      "RMSE of the average of the last two time steps as baseline2 is 29.21.\n"
     ]
    }
   ],
   "source": [
    "RMSE_LSTM = np.sqrt(sum((np.array(yhat_) - np.array(y_))**2)/len(y_))\n",
    "RMSE_baselie1 = np.sqrt(sum((np.array(baseline1) - np.array(y_))**2)/len(y_))\n",
    "RMSE_baselie2 = np.sqrt(sum((np.array(baseline2) - np.array(y_))**2)/len(y_))\n",
    "\n",
    "print(\"LSTM\\'s RMSE is {}.\".format(round(RMSE_LSTM, 2)))\n",
    "print(\"RMSE of last time step as baseline1 is {}.\".format(round(RMSE_baselie1, 2)))\n",
    "print(\"RMSE of the average of the last two time steps as baseline2 is {}.\".format(round(RMSE_baselie2, 2)))"
   ]
  }
 ],
 "metadata": {
  "kernelspec": {
   "display_name": "Python 3",
   "language": "python",
   "name": "python3"
  },
  "language_info": {
   "codemirror_mode": {
    "name": "ipython",
    "version": 3
   },
   "file_extension": ".py",
   "mimetype": "text/x-python",
   "name": "python",
   "nbconvert_exporter": "python",
   "pygments_lexer": "ipython3",
   "version": "3.7.3"
  }
 },
 "nbformat": 4,
 "nbformat_minor": 2
}